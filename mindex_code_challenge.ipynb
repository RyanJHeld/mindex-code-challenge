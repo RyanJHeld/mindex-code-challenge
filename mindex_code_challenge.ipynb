{
 "cells": [
  {
   "cell_type": "code",
   "execution_count": 64,
   "id": "020cb8d1",
   "metadata": {},
   "outputs": [],
   "source": [
    "import boto3\n",
    "import pandas as pd\n",
    "import numpy as np"
   ]
  },
  {
   "cell_type": "markdown",
   "id": "338225c6",
   "metadata": {},
   "source": [
    "### Download the following four CSV files from the `mindex-data-analytics-code-challenge` S3 bucket\n",
    "This data represents the results of the Bengals 2021 NFL Season and the stats of the team’s top 3 receivers.\n",
    " - bengals.csv\n",
    " - boyd_receiving.csv\n",
    " - chase_receiving.csv\n",
    " - higgins_receiving.csv"
   ]
  },
  {
   "cell_type": "code",
   "execution_count": 28,
   "id": "86bb1ac3",
   "metadata": {},
   "outputs": [
    {
     "name": "stdout",
     "output_type": "stream",
     "text": [
      "bengals.csv\n",
      "boyd_receiving.csv\n",
      "chase_receiving.csv\n",
      "higgins_receiving.csv\n"
     ]
    }
   ],
   "source": [
    "s3 = boto3.resource('s3')\n",
    "bucket_name = 'mindex-data-analytics-code-challenge'\n",
    "bucket = s3.Bucket(bucket_name)\n",
    "# TODO: make this work for Windows and Unix-like file systems\n",
    "for obj in bucket.objects.all():\n",
    "    s3.Object(bucket_name, obj.key).download_file(f'.\\\\{obj.key}')\n",
    "    print(obj.key)"
   ]
  },
  {
   "cell_type": "markdown",
   "id": "6d4656c1",
   "metadata": {},
   "source": [
    "### Use the pandas library to load each CSV into its own dataframe"
   ]
  },
  {
   "cell_type": "code",
   "execution_count": 33,
   "id": "cb717319",
   "metadata": {},
   "outputs": [],
   "source": [
    "bengals_df = pd.read_csv('bengals.csv')\n",
    "boyd_df = pd.read_csv('boyd_receiving.csv')\n",
    "chase_df = pd.read_csv('chase_receiving.csv')\n",
    "higgins_df = pd.read_csv('higgins_receiving.csv')"
   ]
  },
  {
   "cell_type": "markdown",
   "id": "fe221104",
   "metadata": {},
   "source": [
    "### Join/Merge all of the dataframes together to display one global table that shows the three different receiver’s yards and touchdown (TD) data as well as every game result. Be sure to include Opponent, Location, and Result fields from the bengals.csv file.\n",
    "Make any changes necessary to successfully merge/join the dataframes."
   ]
  },
  {
   "cell_type": "code",
   "execution_count": 52,
   "id": "1b0619bf",
   "metadata": {},
   "outputs": [],
   "source": [
    "def join_player_stats(team_df: pd.DataFrame, player_df: pd.DataFrame, player_name: str) -> pd.DataFrame:\n",
    "    return team_df.join(player_df.set_index('Week').add_prefix(player_name + ' '), on = 'Week', how = 'left')"
   ]
  },
  {
   "cell_type": "code",
   "execution_count": 85,
   "id": "c74b1df5",
   "metadata": {},
   "outputs": [],
   "source": [
    "joined_df = join_player_stats(bengals_df, boyd_df, 'Boyd')  # add Boyd stats to DataFrame\n",
    "joined_df = join_player_stats(joined_df, chase_df, 'Chase')  # add Chase stats to DataFrame\n",
    "joined_df = join_player_stats(joined_df, higgins_df, 'Higgins')  # add Higgins stats to DataFrame"
   ]
  },
  {
   "cell_type": "markdown",
   "id": "3424cbea",
   "metadata": {},
   "source": [
    " ### Replace the `1.0` or `0.0` values in the Result field to display `Win` or `Loss`, respectively."
   ]
  },
  {
   "cell_type": "code",
   "execution_count": 83,
   "id": "d55b9206",
   "metadata": {},
   "outputs": [],
   "source": [
    "def result_int_to_str(result: np.float64) -> str:\n",
    "    if result == 1.0:\n",
    "        return 'Win'\n",
    "    elif result == 0.0:\n",
    "        return 'Loss'\n",
    "    else:\n",
    "        return None"
   ]
  },
  {
   "cell_type": "code",
   "execution_count": 86,
   "id": "171cf906",
   "metadata": {},
   "outputs": [],
   "source": [
    "joined_df.loc[:, 'Result'] = [result_int_to_str(r) for r in joined_df['Result']]"
   ]
  },
  {
   "cell_type": "markdown",
   "id": "a4279c5b",
   "metadata": {},
   "source": [
    "### Write the dataframe to a postgresql DB"
   ]
  },
  {
   "cell_type": "code",
   "execution_count": 80,
   "id": "f29625c4",
   "metadata": {},
   "outputs": [],
   "source": [
    "import json\n",
    "from sqlalchemy import create_engine\n",
    "\n",
    "# read database connection info from file\n",
    "def get_db_url():\n",
    "    with open('database.json', 'r') as f:\n",
    "        config = json.load(f)\n",
    "    db = config['database']\n",
    "    return f'postgresql://{db[\"user\"]}:{db[\"password\"]}@{db[\"host\"]}:{db[\"port\"]}/{db[\"dbname\"]}'\n",
    "\n",
    "def get_database_connection():\n",
    "    db = create_engine(get_db_url())\n",
    "    return db.connect()"
   ]
  },
  {
   "cell_type": "code",
   "execution_count": 87,
   "id": "98057fa4",
   "metadata": {},
   "outputs": [],
   "source": [
    "with get_database_connection() as conn:\n",
    "    joined_df.to_sql('ryan_held', con = conn, if_exists = 'replace', index = False)"
   ]
  },
  {
   "cell_type": "code",
   "execution_count": null,
   "id": "b26cfc72",
   "metadata": {},
   "outputs": [],
   "source": []
  }
 ],
 "metadata": {
  "kernelspec": {
   "display_name": "Python 3",
   "language": "python",
   "name": "python3"
  },
  "language_info": {
   "codemirror_mode": {
    "name": "ipython",
    "version": 3
   },
   "file_extension": ".py",
   "mimetype": "text/x-python",
   "name": "python",
   "nbconvert_exporter": "python",
   "pygments_lexer": "ipython3",
   "version": "3.6.4"
  }
 },
 "nbformat": 4,
 "nbformat_minor": 5
}
